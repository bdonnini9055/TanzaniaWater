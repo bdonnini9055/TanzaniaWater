{
 "metadata": {
  "name": "",
  "signature": "sha256:40e45510ad7c9c66706123b2de393d44bbd1179296c4d2f0b390f63d6915a452"
 },
 "nbformat": 3,
 "nbformat_minor": 0,
 "worksheets": [
  {
   "cells": [
    {
     "cell_type": "code",
     "collapsed": false,
     "input": [
      "# Scheme Management Inclusive\n",
      "\n",
      "#Libraries\n",
      "import pandas as pd\n",
      "import numpy as np\n",
      "from sklearn import tree\n",
      "import random\n",
      "import sys\n",
      "import matplotlib.pyplot as plt\n",
      "%matplotlib inline\n",
      "\n",
      "# Read in Training Data\n",
      "trainingValues = pd.read_csv('training-values.csv')\n",
      "#print trainingValues[1:15]"
     ],
     "language": "python",
     "metadata": {},
     "outputs": [],
     "prompt_number": 6
    },
    {
     "cell_type": "code",
     "collapsed": false,
     "input": [
      "# Amount TSH\n",
      "tsh = trainingValues['amount_tsh']\n",
      "#print tsh\n",
      "plt.figure();\n",
      "tsh.diff().hist()\n",
      "\n"
     ],
     "language": "python",
     "metadata": {},
     "outputs": [
      {
       "metadata": {},
       "output_type": "pyout",
       "prompt_number": 11,
       "text": [
        "<matplotlib.axes._subplots.AxesSubplot at 0x189b19b0>"
       ]
      }
     ],
     "prompt_number": 11
    },
    {
     "cell_type": "code",
     "collapsed": false,
     "input": [],
     "language": "python",
     "metadata": {},
     "outputs": []
    }
   ],
   "metadata": {}
  }
 ]
}