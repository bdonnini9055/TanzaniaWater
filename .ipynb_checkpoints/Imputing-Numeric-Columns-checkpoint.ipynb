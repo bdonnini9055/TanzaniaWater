{
 "metadata": {
  "name": "",
  "signature": "sha256:423ba8ddc060431d94a4fe083285ae88745988569e34c83e7cdd283e101d57c1"
 },
 "nbformat": 3,
 "nbformat_minor": 0,
 "worksheets": [
  {
   "cells": [
    {
     "cell_type": "code",
     "collapsed": false,
     "input": [
      "#Libraries\n",
      "import pandas as pd\n",
      "import numpy as np\n",
      "from sklearn import tree\n",
      "import random\n",
      "import sys\n",
      "import matplotlib.pyplot as plt\n",
      "%matplotlib inline\n",
      "\n",
      "# Read in Training Data\n",
      "trainingValues = pd.read_csv('training-values.csv')\n",
      "#print trainingValues[1:15]\n",
      "\n",
      "trainingWithNums = pd.read_csv('train-with-numbers.csv')\n"
     ],
     "language": "python",
     "metadata": {},
     "outputs": [],
     "prompt_number": 1
    },
    {
     "cell_type": "code",
     "collapsed": false,
     "input": [
      "# Create Training set for construction year\n",
      "\n",
      "#testSort = trainingWithNums.sort(columns='construction_year')\n",
      "#print testSort[[\"construction_year\", \"id\"]][59000:59300]\n",
      "\n",
      "constructionTest = trainingWithNums[trainingWithNums['construction_year'] == 0]\n",
      "#print constructionTest[['construction_year', 'id', 'status_group']]"
     ],
     "language": "python",
     "metadata": {},
     "outputs": [],
     "prompt_number": 20
    },
    {
     "cell_type": "code",
     "collapsed": false,
     "input": [
      "constructionTraining = trainingWithNums[trainingWithNums['construction_year'] != 0]\n",
      "#len(constructionTraining)\n",
      "\n",
      "constructionTraining1 = constructionTraining[:23214]\n",
      "#print constructionTraining1\n",
      "constructionTraining2 = constructionTraining[23214:]\n",
      "\n",
      "\n",
      "#print constructionTraining[['construction_year', 'id', 'status_group']]"
     ],
     "language": "python",
     "metadata": {},
     "outputs": [],
     "prompt_number": 44
    },
    {
     "cell_type": "code",
     "collapsed": false,
     "input": [
      "#For extraction type in training data\n",
      "groupedByExtraction_type = constructionTraining1.groupby('extraction_type', as_index=False).aggregate(np.mean)\n",
      "extraction_typeNum = groupedByExtraction_type[['extraction_type','construction_year']]\n",
      "extraction_typeZip = zip(extraction_typeNum['extraction_type'], extraction_typeNum['construction_year'])\n",
      "extraction_typeDict ={key: value for (key, value) in extraction_typeZip}\n",
      "constructionTraining1['Numextraction_type'] = constructionTraining1['extraction_type']\n",
      "newExtraction_typeDict = {'Numextraction_type': extraction_typeDict}\n",
      "constructionTraining1 = constructionTraining1.replace(to_replace=newExtraction_typeDict)\n",
      "\n",
      "constructionTraining2['Numextraction_type'] = constructionTraining2['extraction_type']\n",
      "constructionTraining2 = constructionTraining2.replace(to_replace=newExtraction_typeDict)\n",
      "#constructionTest['Numextraction_type'] = constructionTest['Numextraction_type'].astype(int)\n",
      "\n",
      "#print constructionTraining1\n",
      "print constructionTraining2.dtypes"
     ],
     "language": "python",
     "metadata": {},
     "outputs": []
    },
    {
     "cell_type": "code",
     "collapsed": false,
     "input": [],
     "language": "python",
     "metadata": {},
     "outputs": []
    },
    {
     "cell_type": "code",
     "collapsed": false,
     "input": [
      "# Impute Construction Year\n",
      "# \n",
      "relevantinput = constructionTraining1[['amount_tsh', 'gps_height', 'longitude', 'latitude','population', 'num_private', 'Numextraction_type']]\n",
      "trainsample = constructionTraining1[['construction_year']]\n",
      "\n",
      "\n",
      "\n",
      "clf = tree.DecisionTreeClassifier()\n",
      "clf = clf.fit(relevantinput, trainsample)\n",
      "\n",
      "#reader2ids = test[['id']]\n",
      "#relevantinput2 = test[['amount_tsh','gps_height', 'longitude', 'construction_year', 'population']]\n",
      "# \n",
      "answer = pd.DataFrame(clf.predict(constructionTraining2[['amount_tsh', 'gps_height', 'longitude', 'latitude','population', 'num_private', 'Numextraction_type']]))\n",
      "#answer = answer.append(test['id'])\n",
      "#answer.to_csv('imputing-construction-year-with-60-percent.csv')\n",
      "\n",
      "#accuracy score\n",
      "from sklearn.metrics import accuracy_score\n",
      "\n",
      "acc = accuracy_score(constructionTraining2['construction_year'], answer)\n",
      "print acc"
     ],
     "language": "python",
     "metadata": {},
     "outputs": [
      {
       "output_type": "stream",
       "stream": "stdout",
       "text": [
        "Unnamed: 0                 int64\n",
        "id                         int64\n",
        "amount_tsh               float64\n",
        "date_recorded             object\n",
        "funder                    object\n",
        "gps_height                 int64\n",
        "installer                 object\n",
        "longitude                float64\n",
        "latitude                 float64\n",
        "wpt_name                  object\n",
        "num_private                int64\n",
        "basin                     object\n",
        "subvillage                object\n",
        "region                    object\n",
        "region_code                int64\n",
        "district_code              int64\n",
        "lga                       object\n",
        "ward                      object\n",
        "population                 int64\n",
        "public_meeting            object\n",
        "recorded_by               object\n",
        "scheme_management         object\n",
        "scheme_name               object\n",
        "permit                    object\n",
        "construction_year          int64\n",
        "extraction_type           object\n",
        "extraction_type_group     object\n",
        "extraction_type_class     object\n",
        "management                object\n",
        "management_group          object\n",
        "payment                   object\n",
        "payment_type              object\n",
        "water_quality             object\n",
        "quality_group             object\n",
        "quantity                  object\n",
        "quantity_group            object\n",
        "source                    object\n",
        "source_type               object\n",
        "source_class              object\n",
        "waterpoint_type           object\n",
        "waterpoint_type_group     object\n",
        "status_group              object\n",
        "numStatus                float64\n",
        "numBasin                 float64\n",
        "numLga                   float64\n",
        "numExtraction_type       float64\n",
        "numPayment_type          float64\n",
        "numWater_quality         float64\n",
        "numQuantity              float64\n",
        "numSource                float64\n",
        "numWaterpoint_type       float64\n",
        "imputed_scheme            object\n",
        "Numextraction_type        object\n",
        "Length: 53, dtype: object\n"
       ]
      },
      {
       "metadata": {},
       "output_type": "pyout",
       "prompt_number": 66,
       "text": [
        "\"\\n# Impute Construction Year\\n# \\nrelevantinput = constructionTraining1[['amount_tsh', 'gps_height', 'longitude', 'latitude','population', 'num_private', 'Numextraction_type']]\\ntrainsample = constructionTraining1[['construction_year']]\\n\\n\\n\\nclf = tree.DecisionTreeClassifier()\\nclf = clf.fit(relevantinput, trainsample)\\n\\n#reader2ids = test[['id']]\\n#relevantinput2 = test[['amount_tsh','gps_height', 'longitude', 'construction_year', 'population']]\\n# \\nanswer = pd.DataFrame(clf.predict(constructionTraining2[['amount_tsh', 'gps_height', 'longitude', 'latitude','population', 'num_private', 'Numextraction_type']]))\\n#answer = answer.append(test['id'])\\n#answer.to_csv('imputing-construction-year-with-60-percent.csv')\\n\\n#accuracy score\\nfrom sklearn.metrics import accuracy_score\\n\\nacc = accuracy_score(constructionTraining2['construction_year'], answer)\\nprint acc\""
       ]
      }
     ],
     "prompt_number": 66
    },
    {
     "cell_type": "code",
     "collapsed": false,
     "input": [
      "#output test data\n",
      "constructionTest.to_csv(\"construction-test.csv\")"
     ],
     "language": "python",
     "metadata": {},
     "outputs": [],
     "prompt_number": 24
    },
    {
     "cell_type": "code",
     "collapsed": false,
     "input": [
      "# Create Test set for scheme management\n",
      "imputingScheme = trainingWithNums['scheme_management'].fillna('missing')\n",
      "#print imputingScheme\n",
      "trainingWithNums['imputed_scheme'] = imputingScheme\n",
      "#print trainingWithNums\n",
      "\n",
      "schemeManageTest = trainingWithNums[trainingWithNums['imputed_scheme'] == 'missing']\n",
      "#print schemeManageTest\n",
      "\n",
      "#Training Set\n",
      "schemeTraining = trainingWithNums[trainingWithNums['imputed_scheme'] != 'missing']\n"
     ],
     "language": "python",
     "metadata": {},
     "outputs": [],
     "prompt_number": 39
    },
    {
     "cell_type": "code",
     "collapsed": false,
     "input": [
      "# Impute Scheme Management\n",
      "\n",
      "relevantinput = schemeTraining[['numExtraction_type','population', 'numBasin', 'numPayment_type', 'numQuantity', 'numSource', 'numWaterpoint_type', 'numLga']]\n",
      "trainsample = schemeTraining[['imputed_scheme']]\n",
      "\n",
      "\n",
      "\n",
      "clf = tree.DecisionTreeClassifier()\n",
      "clf = clf.fit(relevantinput, trainsample)\n",
      "\n",
      "#reader2ids = test[['id']]\n",
      "#relevantinput2 = test[['amount_tsh','gps_height', 'longitude', 'construction_year', 'population']]\n",
      "\n",
      "answer = pd.DataFrame(clf.predict(schemeManageTest[['numExtraction_type', 'population', 'numBasin', 'numPayment_type', 'numQuantity', 'numSource', 'numWaterpoint_type', 'numLga']]))\n",
      "#answer = answer.append(test['id'])\n",
      "answer.to_csv('imputing-scheme-management.csv')"
     ],
     "language": "python",
     "metadata": {},
     "outputs": [],
     "prompt_number": 40
    },
    {
     "cell_type": "code",
     "collapsed": false,
     "input": [],
     "language": "python",
     "metadata": {},
     "outputs": []
    }
   ],
   "metadata": {}
  }
 ]
}