{
 "metadata": {
  "name": "",
  "signature": "sha256:bcb0621605844c3981e02a65321fb48e811d58502ca46c16ae4178f5235c768b"
 },
 "nbformat": 3,
 "nbformat_minor": 0,
 "worksheets": [
  {
   "cells": [
    {
     "cell_type": "code",
     "collapsed": false,
     "input": [
      "#Libraries\n",
      "import pandas as pd\n",
      "import numpy as np\n",
      "from sklearn import tree\n",
      "import random\n",
      "import sys\n",
      "import matplotlib.pyplot as plt\n",
      "%matplotlib inline\n",
      "\n",
      "# Read in Training Data\n",
      "trainingValues = pd.read_csv('training-values.csv')\n",
      "#print trainingValues[1:15]\n",
      "\n",
      "trainingWithNums = pd.read_csv('train-with-numbers.csv')\n"
     ],
     "language": "python",
     "metadata": {},
     "outputs": [],
     "prompt_number": 1
    },
    {
     "cell_type": "code",
     "collapsed": false,
     "input": [
      "# Create Training set for construction year\n",
      "\n",
      "#testSort = trainingWithNums.sort(columns='construction_year')\n",
      "#print testSort[[\"construction_year\", \"id\"]][59000:59300]\n",
      "\n",
      "constructionTest = trainingWithNums[trainingWithNums['construction_year'] == 0]\n",
      "#print constructionTest[['construction_year', 'id', 'status_group']]\n",
      "print len(constructionTest)"
     ],
     "language": "python",
     "metadata": {},
     "outputs": [
      {
       "output_type": "stream",
       "stream": "stdout",
       "text": [
        "20709\n"
       ]
      }
     ],
     "prompt_number": 123
    },
    {
     "cell_type": "code",
     "collapsed": false,
     "input": [
      "constructionTraining = trainingWithNums[trainingWithNums['construction_year'] != 0]\n",
      "#len(constructionTraining)\n",
      "\n",
      "#constructionTraining1 = constructionTraining[:23214]\n",
      "#print constructionTraining1\n",
      "#constructionTraining2 = constructionTraining[23214:]\n",
      "#print constructionTraining[['construction_year', 'id', 'status_group']]"
     ],
     "language": "python",
     "metadata": {},
     "outputs": [],
     "prompt_number": 44
    },
    {
     "cell_type": "code",
     "collapsed": false,
     "input": [
      "#Skip this"
     ],
     "language": "python",
     "metadata": {},
     "outputs": [],
     "prompt_number": 89
    },
    {
     "cell_type": "code",
     "collapsed": false,
     "input": [
      "'''#For extraction type in training data\n",
      "groupedByExtraction_type = constructionTraining1.groupby('extraction_type_class', as_index=False).aggregate(np.mean)\n",
      "extraction_typeNum = groupedByExtraction_type[['extraction_type_class','construction_year']]\n",
      "extraction_typeZip = zip(extraction_typeNum['extraction_type_class'], extraction_typeNum['construction_year'])\n",
      "extraction_typeDict ={key: value for (key, value) in extraction_typeZip}\n",
      "constructionTraining1['Numextraction_type'] = constructionTraining1['extraction_type_class']\n",
      "newExtraction_typeDict = {'Numextraction_type': extraction_typeDict}\n",
      "constructionTraining1 = constructionTraining1.replace(to_replace=newExtraction_typeDict)\n",
      "\n",
      "constructionTraining2['Numextraction_type'] = constructionTraining2['extraction_type_class']\n",
      "constructionTraining2 = constructionTraining2.replace(to_replace=newExtraction_typeDict)\n",
      "\n",
      "constructionTest['Numextraction_type'] = constructionTest['extraction_type_class']\n",
      "constructionTest = constructionTest.replace(to_replace=newExtraction_typeDict)\n",
      "\n",
      "constructionTraining['Numextraction_type'] = constructionTraining['extraction_type_class']\n",
      "constructionTraining = constructionTraining.replace(to_replace=newExtraction_typeDict)\n",
      "\n",
      "\n",
      "#constructionTest['Numextraction_type'] = constructionTest['Numextraction_type'].astype(int)\n",
      "\n",
      "#print constructionTraining1\n",
      "#print constructionTraining2.dtypes'''"
     ],
     "language": "python",
     "metadata": {},
     "outputs": [],
     "prompt_number": 101
    },
    {
     "cell_type": "code",
     "collapsed": false,
     "input": [
      "'''from sklearn.ensemble import RandomForestClassifier\n",
      "\n",
      "relevantinput = constructionTraining1[['amount_tsh', 'gps_height', 'longitude', 'latitude','population', 'num_private', 'Numextraction_type']]\n",
      "trainsample = constructionTraining1[['construction_year']]\n",
      "\n",
      "\n",
      "\n",
      "clf = RandomForestClassifier()\n",
      "clf = clf.fit(relevantinput, trainsample)\n",
      "\n",
      "#reader2ids = test[['id']]\n",
      "#relevantinput2 = test[['amount_tsh','gps_height', 'longitude', 'construction_year', 'population']]\n",
      "# \n",
      "answer = pd.DataFrame(clf.predict(constructionTraining2[['amount_tsh', 'gps_height', 'longitude', 'latitude','population', 'num_private', 'Numextraction_type']]))\n",
      "#answer = answer.append(test['id'])\n",
      "#answer.to_csv('imputing-construction-year-with-60-percent.csv')\n",
      "\n",
      "#accuracy score\n",
      "from sklearn.metrics import accuracy_score\n",
      "\n",
      "acc = accuracy_score(constructionTraining2['construction_year'], answer)\n",
      "print acc'''\n"
     ],
     "language": "python",
     "metadata": {},
     "outputs": [
      {
       "output_type": "stream",
       "stream": "stdout",
       "text": [
        "0.582154164244\n"
       ]
      },
      {
       "output_type": "stream",
       "stream": "stderr",
       "text": [
        "-c:9: DataConversionWarning: A column-vector y was passed when a 1d array was expected. Please change the shape of y to (n_samples, ), for example using ravel().\n"
       ]
      }
     ],
     "prompt_number": 103
    },
    {
     "cell_type": "code",
     "collapsed": false,
     "input": [
      "relevantinput = constructionTraining[['amount_tsh', 'gps_height', 'longitude', 'latitude','population', 'num_private']]\n",
      "trainsample = constructionTraining[['construction_year']]\n",
      "\n",
      "\n",
      "\n",
      "clf = RandomForestClassifier()\n",
      "clf = clf.fit(relevantinput, trainsample)\n",
      "\n",
      "#reader2ids = test[['id']]\n",
      "#relevantinput2 = test[['amount_tsh','gps_height', 'longitude', 'construction_year', 'population']]\n",
      "# \n",
      "answer = pd.DataFrame(clf.predict(constructionTest[['amount_tsh', 'gps_height', 'longitude', 'latitude','population', 'num_private']]))\n",
      "#answer = answer.append(test['id'])\n",
      "#answer.to_csv('imputing-construction-year-with-60-percent.csv')\n",
      "#print answer"
     ],
     "language": "python",
     "metadata": {},
     "outputs": [
      {
       "metadata": {},
       "output_type": "pyout",
       "prompt_number": 114,
       "text": [
        "\"relevantinput = constructionTraining[['amount_tsh', 'gps_height', 'longitude', 'latitude','population', 'num_private']]\\ntrainsample = constructionTraining[['construction_year']]\\n\\n\\n\\nclf = RandomForestClassifier()\\nclf = clf.fit(relevantinput, trainsample)\\n\\n#reader2ids = test[['id']]\\n#relevantinput2 = test[['amount_tsh','gps_height', 'longitude', 'construction_year', 'population']]\\n# \\nanswer = pd.DataFrame(clf.predict(constructionTest[['amount_tsh', 'gps_height', 'longitude', 'latitude','population', 'num_private']]))\\n#answer = answer.append(test['id'])\\n#answer.to_csv('imputing-construction-year-with-60-percent.csv')\\n#print answer\""
       ]
      }
     ],
     "prompt_number": 114
    },
    {
     "cell_type": "code",
     "collapsed": false,
     "input": [
      "#print len(constructionTest)\n",
      "#print len(constructionTraining)\n",
      "#print len(answer)\n",
      "#print answer.isnull().sum()\n",
      "#Put predictions back into original data where 0's are\n",
      "print answer\n",
      "constructionTest = constructionTest.append(answer)\n",
      "constructionTest.to_csv(\"constructionTest.csv\")\n",
      "#constructionTraining['imputedYear'] = constructionTraining['construction_year']\n",
      "#constructionTraining.to_csv(\"constructiongTraining.csv\")\n",
      "#print constructionTest[['construction_year', 'id', 'funder']]\n",
      "\n",
      "from pandas import concat\n",
      "#put all the training data back together\n",
      "\n",
      "#print len(constructionTest)\n",
      "#\n",
      "#finalTraining = concat([constructionTest, constructionTraining])\n",
      "#finalTraining[['imputedYear', 'id', 'funder']]\n",
      "#finalTraining.to_csv(\"training-with-imputed-years.csv\")"
     ],
     "language": "python",
     "metadata": {},
     "outputs": [
      {
       "output_type": "stream",
       "stream": "stdout",
       "text": [
        "          0\n",
        "0      1974\n",
        "1      1971\n",
        "2      1971\n",
        "3      1985\n",
        "4      1974\n",
        "5      2000\n",
        "6      2000\n",
        "7      1974\n",
        "8      1974\n",
        "9      1990\n",
        "10     2006\n",
        "11     1995\n",
        "12     1990\n",
        "13     1971\n",
        "14     1985\n",
        "15     1995\n",
        "16     1974\n",
        "17     1974\n",
        "18     1974\n",
        "19     1974\n",
        "20     2000\n",
        "21     2000\n",
        "22     1974\n",
        "23     1971\n",
        "24     1971\n",
        "25     1974\n",
        "26     1974\n",
        "27     2010\n",
        "28     1974\n",
        "29     1985\n",
        "...     ...\n",
        "20679  2011\n",
        "20680  1986\n",
        "20681  1974\n",
        "20682  1971\n",
        "20683  1971\n",
        "20684  1986\n",
        "20685  1985\n",
        "20686  1974\n",
        "20687  2010\n",
        "20688  1971\n",
        "20689  1990\n",
        "20690  1995\n",
        "20691  1974\n",
        "20692  1974\n",
        "20693  1985\n",
        "20694  1985\n",
        "20695  1974\n",
        "20696  1986\n",
        "20697  1985\n",
        "20698  1998\n",
        "20699  1971\n",
        "20700  1985\n",
        "20701  1974\n",
        "20702  1971\n",
        "20703  1974\n",
        "20704  1974\n",
        "20705  2010\n",
        "20706  1971\n",
        "20707  1985\n",
        "20708  1986\n",
        "\n",
        "[20709 rows x 1 columns]\n"
       ]
      },
      {
       "ename": "IOError",
       "evalue": "[Errno 13] Permission denied: 'constructionTest.csv'",
       "output_type": "pyerr",
       "traceback": [
        "\u001b[1;31m---------------------------------------------------------------------------\u001b[0m\n\u001b[1;31mIOError\u001b[0m                                   Traceback (most recent call last)",
        "\u001b[1;32m<ipython-input-139-1ee9709d5c7d>\u001b[0m in \u001b[0;36m<module>\u001b[1;34m()\u001b[0m\n\u001b[0;32m      6\u001b[0m \u001b[1;32mprint\u001b[0m \u001b[0manswer\u001b[0m\u001b[1;33m\u001b[0m\u001b[0m\n\u001b[0;32m      7\u001b[0m \u001b[0mconstructionTest\u001b[0m \u001b[1;33m=\u001b[0m \u001b[0mconstructionTest\u001b[0m\u001b[1;33m.\u001b[0m\u001b[0mappend\u001b[0m\u001b[1;33m(\u001b[0m\u001b[0manswer\u001b[0m\u001b[1;33m)\u001b[0m\u001b[1;33m\u001b[0m\u001b[0m\n\u001b[1;32m----> 8\u001b[1;33m \u001b[0mconstructionTest\u001b[0m\u001b[1;33m.\u001b[0m\u001b[0mto_csv\u001b[0m\u001b[1;33m(\u001b[0m\u001b[1;34m\"constructionTest.csv\"\u001b[0m\u001b[1;33m)\u001b[0m\u001b[1;33m\u001b[0m\u001b[0m\n\u001b[0m\u001b[0;32m      9\u001b[0m \u001b[1;31m#constructionTraining['imputedYear'] = constructionTraining['construction_year']\u001b[0m\u001b[1;33m\u001b[0m\u001b[1;33m\u001b[0m\u001b[0m\n\u001b[0;32m     10\u001b[0m \u001b[1;31m#constructionTraining.to_csv(\"constructiongTraining.csv\")\u001b[0m\u001b[1;33m\u001b[0m\u001b[1;33m\u001b[0m\u001b[0m\n",
        "\u001b[1;32mC:\\Users\\bld21_000\\Anaconda\\lib\\site-packages\\pandas\\util\\decorators.pyc\u001b[0m in \u001b[0;36mwrapper\u001b[1;34m(*args, **kwargs)\u001b[0m\n\u001b[0;32m     58\u001b[0m                 \u001b[1;32melse\u001b[0m\u001b[1;33m:\u001b[0m\u001b[1;33m\u001b[0m\u001b[0m\n\u001b[0;32m     59\u001b[0m                     \u001b[0mkwargs\u001b[0m\u001b[1;33m[\u001b[0m\u001b[0mnew_arg_name\u001b[0m\u001b[1;33m]\u001b[0m \u001b[1;33m=\u001b[0m \u001b[0mold_arg_value\u001b[0m\u001b[1;33m\u001b[0m\u001b[0m\n\u001b[1;32m---> 60\u001b[1;33m             \u001b[1;32mreturn\u001b[0m \u001b[0mfunc\u001b[0m\u001b[1;33m(\u001b[0m\u001b[1;33m*\u001b[0m\u001b[0margs\u001b[0m\u001b[1;33m,\u001b[0m \u001b[1;33m**\u001b[0m\u001b[0mkwargs\u001b[0m\u001b[1;33m)\u001b[0m\u001b[1;33m\u001b[0m\u001b[0m\n\u001b[0m\u001b[0;32m     61\u001b[0m         \u001b[1;32mreturn\u001b[0m \u001b[0mwrapper\u001b[0m\u001b[1;33m\u001b[0m\u001b[0m\n\u001b[0;32m     62\u001b[0m     \u001b[1;32mreturn\u001b[0m \u001b[0m_deprecate_kwarg\u001b[0m\u001b[1;33m\u001b[0m\u001b[0m\n",
        "\u001b[1;32mC:\\Users\\bld21_000\\Anaconda\\lib\\site-packages\\pandas\\core\\frame.pyc\u001b[0m in \u001b[0;36mto_csv\u001b[1;34m(self, path_or_buf, sep, na_rep, float_format, columns, header, index, index_label, mode, encoding, quoting, quotechar, line_terminator, chunksize, tupleize_cols, date_format, doublequote, escapechar, **kwds)\u001b[0m\n\u001b[0;32m   1138\u001b[0m                                      \u001b[0mdoublequote\u001b[0m\u001b[1;33m=\u001b[0m\u001b[0mdoublequote\u001b[0m\u001b[1;33m,\u001b[0m\u001b[1;33m\u001b[0m\u001b[0m\n\u001b[0;32m   1139\u001b[0m                                      escapechar=escapechar)\n\u001b[1;32m-> 1140\u001b[1;33m         \u001b[0mformatter\u001b[0m\u001b[1;33m.\u001b[0m\u001b[0msave\u001b[0m\u001b[1;33m(\u001b[0m\u001b[1;33m)\u001b[0m\u001b[1;33m\u001b[0m\u001b[0m\n\u001b[0m\u001b[0;32m   1141\u001b[0m \u001b[1;33m\u001b[0m\u001b[0m\n\u001b[0;32m   1142\u001b[0m         \u001b[1;32mif\u001b[0m \u001b[0mpath_or_buf\u001b[0m \u001b[1;32mis\u001b[0m \u001b[0mNone\u001b[0m\u001b[1;33m:\u001b[0m\u001b[1;33m\u001b[0m\u001b[0m\n",
        "\u001b[1;32mC:\\Users\\bld21_000\\Anaconda\\lib\\site-packages\\pandas\\core\\format.pyc\u001b[0m in \u001b[0;36msave\u001b[1;34m(self)\u001b[0m\n\u001b[0;32m   1280\u001b[0m         \u001b[1;32melse\u001b[0m\u001b[1;33m:\u001b[0m\u001b[1;33m\u001b[0m\u001b[0m\n\u001b[0;32m   1281\u001b[0m             f = com._get_handle(self.path_or_buf, self.mode,\n\u001b[1;32m-> 1282\u001b[1;33m                                 encoding=self.encoding)\n\u001b[0m\u001b[0;32m   1283\u001b[0m             \u001b[0mclose\u001b[0m \u001b[1;33m=\u001b[0m \u001b[0mTrue\u001b[0m\u001b[1;33m\u001b[0m\u001b[0m\n\u001b[0;32m   1284\u001b[0m \u001b[1;33m\u001b[0m\u001b[0m\n",
        "\u001b[1;32mC:\\Users\\bld21_000\\Anaconda\\lib\\site-packages\\pandas\\core\\common.pyc\u001b[0m in \u001b[0;36m_get_handle\u001b[1;34m(path, mode, encoding, compression)\u001b[0m\n\u001b[0;32m   2502\u001b[0m                 \u001b[0mf\u001b[0m \u001b[1;33m=\u001b[0m \u001b[0mopen\u001b[0m\u001b[1;33m(\u001b[0m\u001b[0mpath\u001b[0m\u001b[1;33m,\u001b[0m \u001b[0mmode\u001b[0m\u001b[1;33m,\u001b[0m \u001b[0merrors\u001b[0m\u001b[1;33m=\u001b[0m\u001b[1;34m'replace'\u001b[0m\u001b[1;33m)\u001b[0m\u001b[1;33m\u001b[0m\u001b[0m\n\u001b[0;32m   2503\u001b[0m         \u001b[1;32melse\u001b[0m\u001b[1;33m:\u001b[0m\u001b[1;33m\u001b[0m\u001b[0m\n\u001b[1;32m-> 2504\u001b[1;33m             \u001b[0mf\u001b[0m \u001b[1;33m=\u001b[0m \u001b[0mopen\u001b[0m\u001b[1;33m(\u001b[0m\u001b[0mpath\u001b[0m\u001b[1;33m,\u001b[0m \u001b[0mmode\u001b[0m\u001b[1;33m)\u001b[0m\u001b[1;33m\u001b[0m\u001b[0m\n\u001b[0m\u001b[0;32m   2505\u001b[0m \u001b[1;33m\u001b[0m\u001b[0m\n\u001b[0;32m   2506\u001b[0m     \u001b[1;32mreturn\u001b[0m \u001b[0mf\u001b[0m\u001b[1;33m\u001b[0m\u001b[0m\n",
        "\u001b[1;31mIOError\u001b[0m: [Errno 13] Permission denied: 'constructionTest.csv'"
       ]
      }
     ],
     "prompt_number": 139
    },
    {
     "cell_type": "code",
     "collapsed": false,
     "input": [
      "#print len(constructionTraining1)\n",
      "#print len(constructionTraining2)\n",
      "\n",
      "fullNumExtract = constructionTraining1['Numextraction_type'].append(constructionTraining2['Numextraction_type'])\n",
      "fullNumExtract = fullNumExtract.append(constructionTest['Numextraction_type'])\n",
      "print len(fullNumExtract)"
     ],
     "language": "python",
     "metadata": {},
     "outputs": [
      {
       "output_type": "stream",
       "stream": "stdout",
       "text": [
        "59400\n"
       ]
      }
     ],
     "prompt_number": 81
    },
    {
     "cell_type": "code",
     "collapsed": false,
     "input": [
      "fullNumExtract.to_csv(\"fullNumericExtract.csv\")"
     ],
     "language": "python",
     "metadata": {},
     "outputs": [],
     "prompt_number": 83
    },
    {
     "cell_type": "code",
     "collapsed": false,
     "input": [
      "'''# Impute Construction Year\n",
      "# \n",
      "relevantinput = constructionTraining1[['amount_tsh', 'gps_height', 'longitude', 'latitude','population', 'num_private', 'Numextraction_type']]\n",
      "trainsample = constructionTraining1[['construction_year']]\n",
      "\n",
      "\n",
      "\n",
      "clf = tree.DecisionTreeClassifier()\n",
      "clf = clf.fit(relevantinput, trainsample)\n",
      "\n",
      "#reader2ids = test[['id']]\n",
      "#relevantinput2 = test[['amount_tsh','gps_height', 'longitude', 'construction_year', 'population']]\n",
      "# \n",
      "answer = pd.DataFrame(clf.predict(constructionTraining2[['amount_tsh', 'gps_height', 'longitude', 'latitude','population', 'num_private', 'Numextraction_type']]))\n",
      "#answer = answer.append(test['id'])\n",
      "#answer.to_csv('imputing-construction-year-with-60-percent.csv')\n",
      "\n",
      "#accuracy score\n",
      "from sklearn.metrics import accuracy_score\n",
      "\n",
      "acc = accuracy_score(constructionTraining2['construction_year'], answer)\n",
      "print acc'''"
     ],
     "language": "python",
     "metadata": {},
     "outputs": [
      {
       "output_type": "stream",
       "stream": "stdout",
       "text": [
        "0.545583769464\n"
       ]
      }
     ],
     "prompt_number": 68
    },
    {
     "cell_type": "code",
     "collapsed": false,
     "input": [
      "#output test data\n",
      "constructionTest.to_csv(\"construction-test.csv\")"
     ],
     "language": "python",
     "metadata": {},
     "outputs": [],
     "prompt_number": 24
    },
    {
     "cell_type": "code",
     "collapsed": false,
     "input": [
      "'''# Create Test set for scheme management\n",
      "imputingScheme = trainingWithNums['scheme_management'].fillna('missing')\n",
      "#print imputingScheme\n",
      "trainingWithNums['imputed_scheme'] = imputingScheme\n",
      "#print trainingWithNums\n",
      "\n",
      "schemeManageTest = trainingWithNums[trainingWithNums['imputed_scheme'] == 'missing']\n",
      "#print schemeManageTest\n",
      "\n",
      "#Training Set\n",
      "schemeTraining = trainingWithNums[trainingWithNums['imputed_scheme'] != 'missing']'''\n"
     ],
     "language": "python",
     "metadata": {},
     "outputs": [],
     "prompt_number": 39
    },
    {
     "cell_type": "code",
     "collapsed": false,
     "input": [
      "'''# Impute Scheme Management\n",
      "\n",
      "relevantinput = schemeTraining[['numExtraction_type','population', 'numBasin', 'numPayment_type', 'numQuantity', 'numSource', 'numWaterpoint_type', 'numLga']]\n",
      "trainsample = schemeTraining[['imputed_scheme']]\n",
      "\n",
      "\n",
      "\n",
      "clf = tree.DecisionTreeClassifier()\n",
      "clf = clf.fit(relevantinput, trainsample)\n",
      "\n",
      "#reader2ids = test[['id']]\n",
      "#relevantinput2 = test[['amount_tsh','gps_height', 'longitude', 'construction_year', 'population']]\n",
      "\n",
      "answer = pd.DataFrame(clf.predict(schemeManageTest[['numExtraction_type', 'population', 'numBasin', 'numPayment_type', 'numQuantity', 'numSource', 'numWaterpoint_type', 'numLga']]))\n",
      "#answer = answer.append(test['id'])\n",
      "answer.to_csv('imputing-scheme-management.csv')'''"
     ],
     "language": "python",
     "metadata": {},
     "outputs": [],
     "prompt_number": 40
    },
    {
     "cell_type": "code",
     "collapsed": false,
     "input": [],
     "language": "python",
     "metadata": {},
     "outputs": []
    }
   ],
   "metadata": {}
  }
 ]
}